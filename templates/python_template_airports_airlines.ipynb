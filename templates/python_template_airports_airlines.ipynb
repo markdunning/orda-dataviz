{
 "cells": [
  {
   "cell_type": "markdown",
   "metadata": {},
   "source": [
    "## This is a short tutorial about how to build a Grouped Bar Chart using Pandas and Plotly. \n",
    "In this example we are showing the number of Airports and Airlines by country in the same graph.\n",
    "\n",
    "<b>About Pandas and Plotly:</b>\n",
    "+ Plotly\n",
    " +  Plotly lets users easily create interactive charts and dashboard (https://plot.ly/)\n",
    "+ Pandas\n",
    " + Provides high-performance, easy-to-use data structures and data analysis tools for the Python programming language (http://pandas.pydata.org/)\n",
    " \n"
   ]
  },
  {
   "cell_type": "code",
   "execution_count": 22,
   "metadata": {},
   "outputs": [],
   "source": [
    "import sys\n",
    "import pandas as pd\n",
    "import plotly.graph_objs as go\n",
    "import plotly.plotly as py"
   ]
  },
  {
   "cell_type": "markdown",
   "metadata": {},
   "source": [
    "### Using Pandas to read in the Airports and Airlines data from a CSV file"
   ]
  },
  {
   "cell_type": "code",
   "execution_count": 23,
   "metadata": {},
   "outputs": [
    {
     "name": "stdout",
     "output_type": "stream",
     "text": [
      "0                                 Goroka Airport\n",
      "1                                 Madang Airport\n",
      "2                   Mount Hagen Kagamuga Airport\n",
      "3                                 Nadzab Airport\n",
      "4    Port Moresby Jacksons International Airport\n",
      "Name: name, dtype: object\n"
     ]
    }
   ],
   "source": [
    "# Read in the airports data.\n",
    "try:\n",
    "    AIRPORTS = pd.read_csv(\"https://raw.githubusercontent.com/marcelobp/dataviz/master/data/airports.csv\", header=None, dtype=str)\n",
    "    AIRPORTS.columns = [\"id\", \"name\", \"city\", \"country\", \"code\", \"icao\", \"latitude\", \"longitude\", \"altitude\", \"offset\",\n",
    "                        \"dst\", \"timezone\", \"type\", \"group\"]\n",
    "except OSError as e:\n",
    "    print(\"I/O error: {0}\".format(e))\n",
    "except:\n",
    "    print(\"Unexpected error:\", sys.exc_info()[0])\n",
    "    raise\n",
    "    \n",
    "print(AIRPORTS['name'].head())"
   ]
  },
  {
   "cell_type": "code",
   "execution_count": 24,
   "metadata": {},
   "outputs": [
    {
     "name": "stdout",
     "output_type": "stream",
     "text": [
      "0                                         Unknown\n",
      "1                                  Private flight\n",
      "2                                     135 Airways\n",
      "3                                   1Time Airline\n",
      "4    2 Sqn No 1 Elementary Flying Training School\n",
      "Name: name, dtype: object\n"
     ]
    }
   ],
   "source": [
    "# Read in the airlines data.\n",
    "try:\n",
    "    AIRLINES = pd.read_csv(\"https://raw.githubusercontent.com/marcelobp/dataviz/master/data/airlines.csv\", header=None, dtype=str)\n",
    "    AIRLINES.columns = [\"id\", \"name\", \"alias\", \"iata\", \"icao\", \"callsign\", \"country\", \"active\"]\n",
    "except OSError as e:\n",
    "    print(\"I/O error: {0}\".format(e))\n",
    "except:\n",
    "    print(\"Unexpected error:\", sys.exc_info()[0])\n",
    "    raise\n",
    "\n",
    "print(AIRLINES['name'].head())    "
   ]
  },
  {
   "cell_type": "markdown",
   "metadata": {},
   "source": [
    "### Grouping and Counting Airports and Airlines by Country\n"
   ]
  },
  {
   "cell_type": "code",
   "execution_count": 25,
   "metadata": {},
   "outputs": [
    {
     "name": "stdout",
     "output_type": "stream",
     "text": [
      "          country  count\n",
      "0     Afghanistan     22\n",
      "1         Albania      5\n",
      "2         Algeria     47\n",
      "3  American Samoa      3\n",
      "4          Angola     27\n"
     ]
    }
   ],
   "source": [
    "AIRPORTS_GROUPED = AIRPORTS.groupby(['country']).size().reset_index(name='count')\n",
    "print(AIRPORTS_GROUPED.head(5))"
   ]
  },
  {
   "cell_type": "code",
   "execution_count": 26,
   "metadata": {},
   "outputs": [
    {
     "name": "stdout",
     "output_type": "stream",
     "text": [
      "                 country  count\n",
      "0   Boonville Stage Line      1\n",
      "1                   S.A.      1\n",
      "2                   ACOM      1\n",
      "3            ACTIVE AERO      1\n",
      "4             AEROCENTER      1\n"
     ]
    }
   ],
   "source": [
    "AIRLINES_GROUPED = AIRLINES.groupby(['country']).size().reset_index(name='count')\n",
    "print(AIRLINES_GROUPED.head(5))"
   ]
  },
  {
   "cell_type": "markdown",
   "metadata": {},
   "source": [
    "### Merging Airports and Airlines datasets in one dataset"
   ]
  },
  {
   "cell_type": "code",
   "execution_count": 27,
   "metadata": {},
   "outputs": [
    {
     "name": "stdout",
     "output_type": "stream",
     "text": [
      "         country  count_airports  count_airlines\n",
      "9      Australia             400              94\n",
      "25        Brazil             254              60\n",
      "34        Canada             581             323\n",
      "40         China             349              72\n",
      "65        France             293             123\n",
      "71       Germany             475             135\n",
      "90         Italy             140              93\n",
      "94    Kazakhstan              38              79\n",
      "115       Mexico             101             440\n",
      "127  Netherlands              73              52\n"
     ]
    }
   ],
   "source": [
    "AIRPORTS_AIRLINES = pd.merge(AIRPORTS_GROUPED, AIRLINES_GROUPED, \n",
    "                             on='country', suffixes=['_airports', '_airlines']).query('count_airlines > 50')\n",
    "\n",
    "print(AIRPORTS_AIRLINES.head(10))"
   ]
  },
  {
   "cell_type": "code",
   "execution_count": 28,
   "metadata": {},
   "outputs": [],
   "source": [
    "trace1 = go.Bar(\n",
    "    x=AIRPORTS_AIRLINES['country'],\n",
    "    y=AIRPORTS_AIRLINES['count_airports'],\n",
    "    name='Airports',\n",
    "    marker=dict(\n",
    "        color='rgba(55, 128, 191, 0.7)',\n",
    "        line=dict(\n",
    "            color='rgba(55, 128, 191, 1.0)',\n",
    "            width=1.5),\n",
    "        )\n",
    ")"
   ]
  },
  {
   "cell_type": "code",
   "execution_count": 29,
   "metadata": {},
   "outputs": [],
   "source": [
    "trace2 = go.Bar(\n",
    "    x=AIRPORTS_AIRLINES['country'],\n",
    "    y=AIRPORTS_AIRLINES['count_airlines'],\n",
    "    name='Airlines',\n",
    "    marker=dict(\n",
    "        color='rgba(50, 171, 96, 0.7)',\n",
    "        line=dict(\n",
    "            color='rgba(50, 171, 96, 1.0)',\n",
    "            width=1.5),\n",
    "        )\n",
    ")"
   ]
  },
  {
   "cell_type": "code",
   "execution_count": 30,
   "metadata": {},
   "outputs": [],
   "source": [
    "data = [trace1, trace2]\n",
    "\n",
    "layout = go.Layout(\n",
    "    title='Number of Airlines and Airports by Country',\n",
    "    xaxis=dict(\n",
    "        tickfont=dict(\n",
    "            size=14,\n",
    "            color='rgb(107, 107, 107)'\n",
    "        )\n",
    "    ),\n",
    "\n",
    "    barmode='group',\n",
    "    bargroupgap=0.1\n",
    ")"
   ]
  },
  {
   "cell_type": "code",
   "execution_count": 31,
   "metadata": {},
   "outputs": [
    {
     "data": {
      "text/html": [
       "<iframe id=\"igraph\" scrolling=\"no\" style=\"border:none;\" seamless=\"seamless\" src=\"https://plot.ly/~marcelobp/21.embed\" height=\"525px\" width=\"100%\"></iframe>"
      ],
      "text/plain": [
       "<plotly.tools.PlotlyDisplay object>"
      ]
     },
     "execution_count": 31,
     "metadata": {},
     "output_type": "execute_result"
    }
   ],
   "source": [
    "fig = go.Figure(data=data, layout=layout)\n",
    "\n",
    "py.iplot(fig, filename='airports-airlines-bar-chart')"
   ]
  }
 ],
 "metadata": {
  "kernelspec": {
   "display_name": "Python 3",
   "language": "python",
   "name": "python3"
  },
  "language_info": {
   "codemirror_mode": {
    "name": "ipython",
    "version": 3
   },
   "file_extension": ".py",
   "mimetype": "text/x-python",
   "name": "python",
   "nbconvert_exporter": "python",
   "pygments_lexer": "ipython3",
   "version": "3.6.2"
  }
 },
 "nbformat": 4,
 "nbformat_minor": 2
}
